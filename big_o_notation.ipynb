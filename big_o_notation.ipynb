{
 "cells": [
  {
   "cell_type": "code",
   "execution_count": 2,
   "id": "6f958f4c",
   "metadata": {},
   "outputs": [],
   "source": [
    "import matplotlib.pyplot as plt\n",
    "import numpy as np\n",
    "import random\n",
    "import math"
   ]
  },
  {
   "cell_type": "markdown",
   "id": "f180abd0",
   "metadata": {},
   "source": [
    "Title your chart \"Big O Notation\"\n",
    "Label your x axis \"Elements\"\n",
    "Label your y axis \"Operations\"\n",
    "Label your curves or make a legend for the curves\n",
    "Use LaTex notation where possible"
   ]
  },
  {
   "cell_type": "code",
   "execution_count": null,
   "id": "efcb6cef",
   "metadata": {},
   "outputs": [],
   "source": [
    "# y = 0n+1 label the curve \"O(1)\"\n",
    "x = np.arange(0,25,2)\n",
    "y = np.square(x) - x + 2\n",
    "\n",
    "plt.plot(x,y)"
   ]
  }
 ],
 "metadata": {
  "kernelspec": {
   "display_name": "Python 3 (ipykernel)",
   "language": "python",
   "name": "python3"
  },
  "language_info": {
   "codemirror_mode": {
    "name": "ipython",
    "version": 3
   },
   "file_extension": ".py",
   "mimetype": "text/x-python",
   "name": "python",
   "nbconvert_exporter": "python",
   "pygments_lexer": "ipython3",
   "version": "3.9.12"
  }
 },
 "nbformat": 4,
 "nbformat_minor": 5
}
